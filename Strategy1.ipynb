{
 "cells": [
  {
   "cell_type": "code",
   "execution_count": 1,
   "id": "c1b102b1",
   "metadata": {},
   "outputs": [],
   "source": [
    "import nltk"
   ]
  },
  {
   "cell_type": "code",
   "execution_count": 2,
   "id": "5b7229c1",
   "metadata": {},
   "outputs": [
    {
     "name": "stderr",
     "output_type": "stream",
     "text": [
      "[nltk_data] Downloading package words to /work/words...\n",
      "[nltk_data]   Package words is already up-to-date!\n"
     ]
    },
    {
     "data": {
      "text/plain": [
       "True"
      ]
     },
     "execution_count": 2,
     "metadata": {},
     "output_type": "execute_result"
    }
   ],
   "source": [
    "nltk.data.path.append('/work/words')\n",
    "nltk.download('words', download_dir='/work/words')"
   ]
  },
  {
   "cell_type": "code",
   "execution_count": 3,
   "id": "3953b40a",
   "metadata": {},
   "outputs": [
    {
     "data": {
      "text/plain": [
       "236736"
      ]
     },
     "execution_count": 3,
     "metadata": {},
     "output_type": "execute_result"
    }
   ],
   "source": [
    "from nltk.corpus import words\n",
    "word_list = words.words()\n",
    "# prints 236736\n",
    "len(word_list)"
   ]
  },
  {
   "cell_type": "code",
   "execution_count": 4,
   "id": "b9168ef7",
   "metadata": {},
   "outputs": [
    {
     "data": {
      "text/plain": [
       "10422"
      ]
     },
     "execution_count": 4,
     "metadata": {},
     "output_type": "execute_result"
    }
   ],
   "source": [
    "words_five = [word.lower() for word in word_list if len(word) == 5]\n",
    "len(words_five)"
   ]
  },
  {
   "cell_type": "code",
   "execution_count": 5,
   "id": "8c082fa9",
   "metadata": {},
   "outputs": [],
   "source": [
    "letter_frequencies = {\n",
    "    \"e\": 0.13,\n",
    "    \"t\": 0.091,\n",
    "    \"a\": 0.082,\n",
    "    \"o\": 0.075,\n",
    "    \"i\": 0.07,\n",
    "    \"n\": 0.067,\n",
    "    \"s\": 0.063,\n",
    "    \"h\": 0.061,\n",
    "    \"r\": 0.06,\n",
    "    \"d\": 0.043,\n",
    "    \"l\": 0.04,\n",
    "    \"c\": 0.028,\n",
    "    \"u\": 0.028,\n",
    "    \"m\": 0.025,\n",
    "    \"w\": 0.024,\n",
    "    \"f\": 0.022,\n",
    "    \"g\": 0.02,\n",
    "    \"y\": 0.02,\n",
    "    \"p\": 0.019,\n",
    "    \"b\": 0.015,\n",
    "    \"v\": 0.0098,\n",
    "    \"k\": 0.0077,\n",
    "    \"j\": 0.0015,\n",
    "    \"x\": 0.0015,\n",
    "    \"q\": 0.00095,\n",
    "    \"z\": 0.00074,\n",
    "}"
   ]
  },
  {
   "cell_type": "code",
   "execution_count": 6,
   "id": "57526b6b",
   "metadata": {},
   "outputs": [],
   "source": [
    "def word_score(word):\n",
    "    letters_in_word = list(set(word))\n",
    "    word_letter_frequencies = [letter_frequencies[letter] for letter in letters_in_word]\n",
    "    word_score = sum(word_letter_frequencies)\n",
    "    return word_score"
   ]
  },
  {
   "cell_type": "code",
   "execution_count": 7,
   "id": "7a66ba71",
   "metadata": {},
   "outputs": [],
   "source": [
    "guess = max(words_five, key=word_score)"
   ]
  },
  {
   "cell_type": "code",
   "execution_count": 8,
   "id": "c3a1f069",
   "metadata": {},
   "outputs": [
    {
     "data": {
      "text/plain": [
       "'atone'"
      ]
     },
     "execution_count": 8,
     "metadata": {},
     "output_type": "execute_result"
    }
   ],
   "source": [
    "guess"
   ]
  },
  {
   "cell_type": "code",
   "execution_count": 21,
   "id": "274ebef1",
   "metadata": {},
   "outputs": [],
   "source": [
    "contains = [\"i\", \"r\"]\n",
    "no_letter = [\"a\", \"t\", \"o\", \"n\", \"e\", \"g\", \"s\", \"h\", \"l\", \"u\", \"d\"]\n",
    "perfect= [None, None, None, None, None]"
   ]
  },
  {
   "cell_type": "code",
   "execution_count": 10,
   "id": "a2200f82",
   "metadata": {},
   "outputs": [],
   "source": [
    "def filter_words(contains, no_letter, perfect, words):\n",
    "    new_words = []\n",
    "    for word in words:\n",
    "        save = True\n",
    "        for letter in contains:\n",
    "            if letter not in word:\n",
    "                save = False\n",
    "                break\n",
    "        \n",
    "        # If we still saved check for can't contain\n",
    "        if save:\n",
    "            for letter in no_letter:\n",
    "                if letter in word:\n",
    "                    save = False\n",
    "                    break\n",
    "        \n",
    "        # If we still saved check for prefect\n",
    "        if save:\n",
    "            for position, letter in enumerate(perfect):\n",
    "                if letter is not None:\n",
    "                    if letter != word[position]:\n",
    "                        save = False\n",
    "                        break\n",
    "        \n",
    "        if save:\n",
    "            new_words.append(word)\n",
    "    \n",
    "    return new_words"
   ]
  },
  {
   "cell_type": "code",
   "execution_count": 22,
   "id": "7e127858",
   "metadata": {},
   "outputs": [],
   "source": [
    "words_five\n",
    "words_five_filtered = filter_words(contains, no_letter, perfect, words_five)"
   ]
  },
  {
   "cell_type": "code",
   "execution_count": 23,
   "id": "8478b14d",
   "metadata": {},
   "outputs": [
    {
     "name": "stdout",
     "output_type": "stream",
     "text": [
      "19\n"
     ]
    }
   ],
   "source": [
    "print(len(words_five_filtered))"
   ]
  },
  {
   "cell_type": "code",
   "execution_count": 24,
   "id": "529b7004",
   "metadata": {},
   "outputs": [
    {
     "data": {
      "text/plain": [
       "'crimp'"
      ]
     },
     "execution_count": 24,
     "metadata": {},
     "output_type": "execute_result"
    }
   ],
   "source": [
    "guess = max(words_five_filtered, key=word_score)\n",
    "guess"
   ]
  },
  {
   "cell_type": "code",
   "execution_count": 96,
   "id": "797e01f2",
   "metadata": {},
   "outputs": [],
   "source": [
    "perfect = [None, \"o\", None, None, \"t\"]\n",
    "no_letter = no_letter + ['h', 'i', 's']"
   ]
  },
  {
   "cell_type": "code",
   "execution_count": 97,
   "id": "4b5ccf01",
   "metadata": {},
   "outputs": [
    {
     "name": "stdout",
     "output_type": "stream",
     "text": [
      "7\n"
     ]
    }
   ],
   "source": [
    "words_five_filtered = filter_words(contains, no_letter, perfect, words_five)\n",
    "print(len(words_five_filtered))"
   ]
  },
  {
   "cell_type": "code",
   "execution_count": 98,
   "id": "a24abf86",
   "metadata": {},
   "outputs": [
    {
     "data": {
      "text/plain": [
       "'court'"
      ]
     },
     "execution_count": 98,
     "metadata": {},
     "output_type": "execute_result"
    }
   ],
   "source": [
    "guess = max(words_five_filtered, key=word_score)\n",
    "guess"
   ]
  },
  {
   "cell_type": "code",
   "execution_count": 99,
   "id": "716cb679",
   "metadata": {},
   "outputs": [],
   "source": [
    "no_letter = no_letter + ['c', 'u']\n",
    "contains.append('r')"
   ]
  },
  {
   "cell_type": "code",
   "execution_count": 100,
   "id": "df2987d6",
   "metadata": {},
   "outputs": [
    {
     "name": "stdout",
     "output_type": "stream",
     "text": [
      "2\n"
     ]
    }
   ],
   "source": [
    "words_five_filtered = filter_words(contains, no_letter, perfect, words_five)\n",
    "print(len(words_five_filtered))"
   ]
  },
  {
   "cell_type": "code",
   "execution_count": 101,
   "id": "e792cae5",
   "metadata": {},
   "outputs": [
    {
     "data": {
      "text/plain": [
       "['boort', 'robot']"
      ]
     },
     "execution_count": 101,
     "metadata": {},
     "output_type": "execute_result"
    }
   ],
   "source": [
    "words_five_filtered"
   ]
  },
  {
   "cell_type": "code",
   "execution_count": 102,
   "id": "01b1017d",
   "metadata": {},
   "outputs": [
    {
     "data": {
      "text/plain": [
       "'robot'"
      ]
     },
     "execution_count": 102,
     "metadata": {},
     "output_type": "execute_result"
    }
   ],
   "source": [
    "guess = max(words_five_filtered, key=word_score)\n",
    "guess"
   ]
  },
  {
   "cell_type": "code",
   "execution_count": null,
   "id": "a22957ab",
   "metadata": {},
   "outputs": [],
   "source": []
  }
 ],
 "metadata": {
  "kernelspec": {
   "display_name": "Python 3",
   "language": "python",
   "name": "python3"
  },
  "language_info": {
   "codemirror_mode": {
    "name": "ipython",
    "version": 3
   },
   "file_extension": ".py",
   "mimetype": "text/x-python",
   "name": "python",
   "nbconvert_exporter": "python",
   "pygments_lexer": "ipython3",
   "version": "3.7.10"
  }
 },
 "nbformat": 4,
 "nbformat_minor": 5
}
